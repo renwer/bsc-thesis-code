{
 "cells": [
  {
   "cell_type": "code",
   "execution_count": 38,
   "metadata": {},
   "outputs": [],
   "source": [
    "import pandas as pd\n",
    "from bs4 import BeautifulSoup"
   ]
  },
  {
   "cell_type": "code",
   "execution_count": 39,
   "metadata": {},
   "outputs": [],
   "source": [
    "files = ['./DAPrices/n2ex-day-ahead-auction-prices_2015_hourly_eur.html',\n",
    "        './DAPrices/n2ex-day-ahead-auction-prices_2016_hourly_eur.html',\n",
    "        './DAPrices/n2ex-day-ahead-auction-prices_2017_hourly_eur.html',\n",
    "        './DAPrices/n2ex-day-ahead-auction-prices_2018_hourly_eur.html',\n",
    "        './DAPrices/n2ex-day-ahead-auction-prices_2019_hourly_eur.html']\n",
    "\n",
    "result_df = pd.DataFrame(columns = ['Date', 'Hour_1', 'Hour_2', 'Price'])"
   ]
  },
  {
   "cell_type": "code",
   "execution_count": 40,
   "metadata": {},
   "outputs": [
    {
     "name": "stdout",
     "output_type": "stream",
     "text": [
      "              Date   Hour_1   Hour_2  Price\n",
      "count        43829    43829    43829  43829\n",
      "unique        1826       24       24   7424\n",
      "top     28-10-2018  01 - 02  02 - 03  50.31\n",
      "freq            26     1831     1831     30\n"
     ]
    }
   ],
   "source": [
    "\n",
    "for f in files:\n",
    "    with open(f) as doc:\n",
    "        soup = BeautifulSoup(doc, 'html.parser')\n",
    "        headers = [str(tr.text).strip() for tr in soup.table.thead.find_all('tr')]\n",
    "        for tr in soup.table.tbody.find_all('tr'):\n",
    "            date = str(tr.text)[:11].lstrip() # date\n",
    "            hour_1 = str(tr.text)[11:18].strip() # hour\n",
    "            hour_2 = str(tr.text)[18:25].strip() # hour?\n",
    "            price = str(tr.text)[25:].replace(',', '.').rstrip() # DA price\n",
    "\n",
    "            result_df = result_df.append(pd.DataFrame({'Date': date, 'Hour_1': hour_1, 'Hour_2': hour_2, 'Price': price},\n",
    "                                                      index=[0]))\n",
    "    \n",
    "print(result_df.describe())"
   ]
  },
  {
   "cell_type": "code",
   "execution_count": 49,
   "metadata": {},
   "outputs": [],
   "source": [
    "result_df = result_df.reset_index()\n",
    "result_df.to_csv('uk_day_ahead_prices_hourly.csv')"
   ]
  },
  {
   "cell_type": "code",
   "execution_count": 50,
   "metadata": {},
   "outputs": [
    {
     "data": {
      "text/html": [
       "<div>\n",
       "<style scoped>\n",
       "    .dataframe tbody tr th:only-of-type {\n",
       "        vertical-align: middle;\n",
       "    }\n",
       "\n",
       "    .dataframe tbody tr th {\n",
       "        vertical-align: top;\n",
       "    }\n",
       "\n",
       "    .dataframe thead th {\n",
       "        text-align: right;\n",
       "    }\n",
       "</style>\n",
       "<table border=\"1\" class=\"dataframe\">\n",
       "  <thead>\n",
       "    <tr style=\"text-align: right;\">\n",
       "      <th></th>\n",
       "      <th>index</th>\n",
       "      <th>level_0</th>\n",
       "      <th>Date</th>\n",
       "      <th>Hour_1</th>\n",
       "      <th>Hour_2</th>\n",
       "      <th>Price</th>\n",
       "    </tr>\n",
       "  </thead>\n",
       "  <tbody>\n",
       "    <tr>\n",
       "      <th>0</th>\n",
       "      <td>0</td>\n",
       "      <td>0</td>\n",
       "      <td>01-01-2015</td>\n",
       "      <td>23 - 00</td>\n",
       "      <td>00 - 01</td>\n",
       "      <td>52.25</td>\n",
       "    </tr>\n",
       "    <tr>\n",
       "      <th>1</th>\n",
       "      <td>1</td>\n",
       "      <td>1</td>\n",
       "      <td>01-01-2015</td>\n",
       "      <td>00 - 01</td>\n",
       "      <td>01 - 02</td>\n",
       "      <td>50.73</td>\n",
       "    </tr>\n",
       "    <tr>\n",
       "      <th>2</th>\n",
       "      <td>2</td>\n",
       "      <td>2</td>\n",
       "      <td>01-01-2015</td>\n",
       "      <td>01 - 02</td>\n",
       "      <td>02 - 03</td>\n",
       "      <td>47.63</td>\n",
       "    </tr>\n",
       "    <tr>\n",
       "      <th>3</th>\n",
       "      <td>3</td>\n",
       "      <td>3</td>\n",
       "      <td>01-01-2015</td>\n",
       "      <td>02 - 03</td>\n",
       "      <td>03 - 04</td>\n",
       "      <td>41.50</td>\n",
       "    </tr>\n",
       "    <tr>\n",
       "      <th>4</th>\n",
       "      <td>4</td>\n",
       "      <td>4</td>\n",
       "      <td>01-01-2015</td>\n",
       "      <td>03 - 04</td>\n",
       "      <td>04 - 05</td>\n",
       "      <td>37.52</td>\n",
       "    </tr>\n",
       "  </tbody>\n",
       "</table>\n",
       "</div>"
      ],
      "text/plain": [
       "   index  level_0        Date   Hour_1   Hour_2  Price\n",
       "0      0        0  01-01-2015  23 - 00  00 - 01  52.25\n",
       "1      1        1  01-01-2015  00 - 01  01 - 02  50.73\n",
       "2      2        2  01-01-2015  01 - 02  02 - 03  47.63\n",
       "3      3        3  01-01-2015  02 - 03  03 - 04  41.50\n",
       "4      4        4  01-01-2015  03 - 04  04 - 05  37.52"
      ]
     },
     "execution_count": 50,
     "metadata": {},
     "output_type": "execute_result"
    }
   ],
   "source": [
    "result_df.head()"
   ]
  },
  {
   "cell_type": "code",
   "execution_count": null,
   "metadata": {},
   "outputs": [],
   "source": []
  }
 ],
 "metadata": {
  "kernelspec": {
   "display_name": "Python 3",
   "language": "python",
   "name": "python3"
  },
  "language_info": {
   "codemirror_mode": {
    "name": "ipython",
    "version": 3
   },
   "file_extension": ".py",
   "mimetype": "text/x-python",
   "name": "python",
   "nbconvert_exporter": "python",
   "pygments_lexer": "ipython3",
   "version": "3.8.5"
  }
 },
 "nbformat": 4,
 "nbformat_minor": 4
}
