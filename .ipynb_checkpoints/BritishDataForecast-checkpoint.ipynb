{
 "cells": [
  {
   "cell_type": "code",
   "execution_count": 48,
   "metadata": {},
   "outputs": [],
   "source": [
    "import pandas as pd\n",
    "import requests\n",
    "from io import StringIO\n",
    "from datetime import timedelta, date"
   ]
  },
  {
   "cell_type": "code",
   "execution_count": 49,
   "metadata": {},
   "outputs": [],
   "source": [
    "# get two dates as strings, yield dates in range as strings\n",
    "def daterange(start_date, end_date):\n",
    "    for n in range(int((end_date - start_date).days)):\n",
    "        yield start_date + timedelta(n)"
   ]
  },
  {
   "cell_type": "code",
   "execution_count": 50,
   "metadata": {},
   "outputs": [],
   "source": [
    "start_date = '2015-01-01'\n",
    "forecast_url = 'https://api.bmreports.com/BMRS/{report}/v1?APIKey=ozdvc52r48xnxum&SettlementDate={date}&Period={period}&ServiceType=csv'\n",
    "\n",
    "def get_forecast_df(url, report, rdate, period):\n",
    "    r = requests.get(url.format(report=report, date=rdate, period=period))\n",
    "    response_text = r.text.replace('*', '').split('\\n')\n",
    "    response_csv = StringIO('\\n'.join(response_text[4:-1]))\n",
    "    return pd.read_csv(response_csv)"
   ]
  },
  {
   "cell_type": "code",
   "execution_count": null,
   "metadata": {},
   "outputs": [],
   "source": [
    "wind_forecast_report_id = 'B1440' # Wind forecast\n",
    "                                                                                             \n",
    "df = get_forecast_df(forecast_url, wind_forecast_report_id, start_date, 1) # init columns\n",
    "df = df.iloc[0:0]\n",
    "\n",
    "\n",
    "# loop here over every hour of every day, append resulting frames\n",
    "for d in daterange(date(2015, 1, 1), date(2020, 1, 1)):\n",
    "    d = d.strftime(\"%Y-%m-%d\")\n",
    "    for p in range(51): # for every settlement period\n",
    "        try:\n",
    "            df = df.append(get_forecast_df(forecast_url, wind_forecast_report_id, d, p), ignore_index=True)\n",
    "        except:\n",
    "            pass\n",
    "\n",
    "df.describe()"
   ]
  },
  {
   "cell_type": "code",
   "execution_count": null,
   "metadata": {},
   "outputs": [],
   "source": []
  }
 ],
 "metadata": {
  "kernelspec": {
   "display_name": "Python 3",
   "language": "python",
   "name": "python3"
  },
  "language_info": {
   "codemirror_mode": {
    "name": "ipython",
    "version": 3
   },
   "file_extension": ".py",
   "mimetype": "text/x-python",
   "name": "python",
   "nbconvert_exporter": "python",
   "pygments_lexer": "ipython3",
   "version": "3.8.5"
  }
 },
 "nbformat": 4,
 "nbformat_minor": 4
}
