{
 "cells": [
  {
   "cell_type": "code",
   "execution_count": 63,
   "metadata": {},
   "outputs": [],
   "source": [
    "import pandas as pd\n",
    "import requests\n",
    "import timeit\n",
    "from io import StringIO\n",
    "from datetime import timedelta, date, datetime\n",
    "from IPython.display import clear_output"
   ]
  },
  {
   "cell_type": "code",
   "execution_count": 64,
   "metadata": {},
   "outputs": [],
   "source": [
    "# get two dates as strings, yield dates in range as strings\n",
    "def daterange(start_date, end_date):\n",
    "    for n in range(int((end_date - start_date).days)):\n",
    "        yield (start_date + timedelta(n)).strftime('%Y-%m-%d')\n",
    "\n",
    "days = list(daterange(datetime(2015, 1, 1), datetime(2020, 1, 1)))"
   ]
  },
  {
   "cell_type": "code",
   "execution_count": 65,
   "metadata": {},
   "outputs": [],
   "source": [
    "result_df = pd.DataFrame(columns=['RecordType', 'SettlementDate', 'SettlementPeriod', 'Zone', 'TimePublished', 'Quantity'])"
   ]
  },
  {
   "cell_type": "code",
   "execution_count": 66,
   "metadata": {},
   "outputs": [
    {
     "name": "stdout",
     "output_type": "stream",
     "text": [
      "1.0% processed, shape: (87648, 6)\n"
     ]
    }
   ],
   "source": [
    "consumption_forecast_url = 'https://api.bmreports.com/BMRS/FORDAYDEM/v1?APIKey=ozdvc52r48xnxum&ZoneIdentifier=N&FromDate={}&ToDate={}&ServiceType=csv'\n",
    "\n",
    "for i in range(len(days)):\n",
    "    day_from = day_to = days[i]\n",
    "\n",
    "    r = requests.get(consumption_forecast_url.format(day_from, day_to))\n",
    "    response_text = r.text.split('\\n')[1:-1]\n",
    "    response_text = '\\n'.join(response_text)\n",
    "    \n",
    "    response_df = pd.read_csv(StringIO(response_text), header=None)\n",
    "    response_df.columns = ['RecordType', 'SettlementDate', 'SettlementPeriod', 'Zone', 'TimePublished', 'Quantity']\n",
    "    \n",
    "    result_df = result_df.append(response_df.loc[response_df.RecordType == 'DANF'])\n",
    "    \n",
    "    clear_output(wait=True)\n",
    "    print(f'{round(i/len(days), 2)*100}% processed, shape: {result_df.shape}', flush=True)"
   ]
  },
  {
   "cell_type": "code",
   "execution_count": 67,
   "metadata": {},
   "outputs": [],
   "source": [
    "result_df.to_csv('uk_demand_forecast.csv')"
   ]
  },
  {
   "cell_type": "code",
   "execution_count": 68,
   "metadata": {},
   "outputs": [
    {
     "data": {
      "text/html": [
       "<div>\n",
       "<style scoped>\n",
       "    .dataframe tbody tr th:only-of-type {\n",
       "        vertical-align: middle;\n",
       "    }\n",
       "\n",
       "    .dataframe tbody tr th {\n",
       "        vertical-align: top;\n",
       "    }\n",
       "\n",
       "    .dataframe thead th {\n",
       "        text-align: right;\n",
       "    }\n",
       "</style>\n",
       "<table border=\"1\" class=\"dataframe\">\n",
       "  <thead>\n",
       "    <tr style=\"text-align: right;\">\n",
       "      <th></th>\n",
       "      <th>RecordType</th>\n",
       "      <th>SettlementDate</th>\n",
       "      <th>SettlementPeriod</th>\n",
       "      <th>Zone</th>\n",
       "      <th>TimePublished</th>\n",
       "      <th>Quantity</th>\n",
       "    </tr>\n",
       "  </thead>\n",
       "  <tbody>\n",
       "    <tr>\n",
       "      <th>0</th>\n",
       "      <td>DANF</td>\n",
       "      <td>20150101</td>\n",
       "      <td>1</td>\n",
       "      <td>N</td>\n",
       "      <td>20141231234700</td>\n",
       "      <td>29400</td>\n",
       "    </tr>\n",
       "    <tr>\n",
       "      <th>1</th>\n",
       "      <td>DANF</td>\n",
       "      <td>20150101</td>\n",
       "      <td>2</td>\n",
       "      <td>N</td>\n",
       "      <td>20150101001700</td>\n",
       "      <td>29800</td>\n",
       "    </tr>\n",
       "    <tr>\n",
       "      <th>2</th>\n",
       "      <td>DANF</td>\n",
       "      <td>20150101</td>\n",
       "      <td>3</td>\n",
       "      <td>N</td>\n",
       "      <td>20150101004700</td>\n",
       "      <td>28920</td>\n",
       "    </tr>\n",
       "    <tr>\n",
       "      <th>3</th>\n",
       "      <td>DANF</td>\n",
       "      <td>20150101</td>\n",
       "      <td>4</td>\n",
       "      <td>N</td>\n",
       "      <td>20150101011700</td>\n",
       "      <td>27932</td>\n",
       "    </tr>\n",
       "    <tr>\n",
       "      <th>4</th>\n",
       "      <td>DANF</td>\n",
       "      <td>20150101</td>\n",
       "      <td>5</td>\n",
       "      <td>N</td>\n",
       "      <td>20150101014700</td>\n",
       "      <td>26868</td>\n",
       "    </tr>\n",
       "    <tr>\n",
       "      <th>...</th>\n",
       "      <td>...</td>\n",
       "      <td>...</td>\n",
       "      <td>...</td>\n",
       "      <td>...</td>\n",
       "      <td>...</td>\n",
       "      <td>...</td>\n",
       "    </tr>\n",
       "    <tr>\n",
       "      <th>43</th>\n",
       "      <td>DANF</td>\n",
       "      <td>20191231</td>\n",
       "      <td>44</td>\n",
       "      <td>N</td>\n",
       "      <td>20191231211500</td>\n",
       "      <td>29773</td>\n",
       "    </tr>\n",
       "    <tr>\n",
       "      <th>44</th>\n",
       "      <td>DANF</td>\n",
       "      <td>20191231</td>\n",
       "      <td>45</td>\n",
       "      <td>N</td>\n",
       "      <td>20191231214500</td>\n",
       "      <td>28488</td>\n",
       "    </tr>\n",
       "    <tr>\n",
       "      <th>45</th>\n",
       "      <td>DANF</td>\n",
       "      <td>20191231</td>\n",
       "      <td>46</td>\n",
       "      <td>N</td>\n",
       "      <td>20191231221500</td>\n",
       "      <td>27817</td>\n",
       "    </tr>\n",
       "    <tr>\n",
       "      <th>46</th>\n",
       "      <td>DANF</td>\n",
       "      <td>20191231</td>\n",
       "      <td>47</td>\n",
       "      <td>N</td>\n",
       "      <td>20191231224500</td>\n",
       "      <td>26872</td>\n",
       "    </tr>\n",
       "    <tr>\n",
       "      <th>47</th>\n",
       "      <td>DANF</td>\n",
       "      <td>20191231</td>\n",
       "      <td>48</td>\n",
       "      <td>N</td>\n",
       "      <td>20191231231500</td>\n",
       "      <td>26450</td>\n",
       "    </tr>\n",
       "  </tbody>\n",
       "</table>\n",
       "<p>87648 rows × 6 columns</p>\n",
       "</div>"
      ],
      "text/plain": [
       "   RecordType SettlementDate SettlementPeriod Zone   TimePublished Quantity\n",
       "0        DANF       20150101                1    N  20141231234700    29400\n",
       "1        DANF       20150101                2    N  20150101001700    29800\n",
       "2        DANF       20150101                3    N  20150101004700    28920\n",
       "3        DANF       20150101                4    N  20150101011700    27932\n",
       "4        DANF       20150101                5    N  20150101014700    26868\n",
       "..        ...            ...              ...  ...             ...      ...\n",
       "43       DANF       20191231               44    N  20191231211500    29773\n",
       "44       DANF       20191231               45    N  20191231214500    28488\n",
       "45       DANF       20191231               46    N  20191231221500    27817\n",
       "46       DANF       20191231               47    N  20191231224500    26872\n",
       "47       DANF       20191231               48    N  20191231231500    26450\n",
       "\n",
       "[87648 rows x 6 columns]"
      ]
     },
     "execution_count": 68,
     "metadata": {},
     "output_type": "execute_result"
    }
   ],
   "source": [
    "result_df"
   ]
  },
  {
   "cell_type": "code",
   "execution_count": null,
   "metadata": {},
   "outputs": [],
   "source": []
  }
 ],
 "metadata": {
  "kernelspec": {
   "display_name": "Python 3",
   "language": "python",
   "name": "python3"
  },
  "language_info": {
   "codemirror_mode": {
    "name": "ipython",
    "version": 3
   },
   "file_extension": ".py",
   "mimetype": "text/x-python",
   "name": "python",
   "nbconvert_exporter": "python",
   "pygments_lexer": "ipython3",
   "version": "3.8.5"
  }
 },
 "nbformat": 4,
 "nbformat_minor": 4
}
